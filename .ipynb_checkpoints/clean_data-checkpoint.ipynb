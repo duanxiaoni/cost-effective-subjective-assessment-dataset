{
 "cells": [
  {
   "cell_type": "code",
   "execution_count": 1,
   "id": "55af2fca-6496-47f7-be8d-65093c5a5243",
   "metadata": {},
   "outputs": [],
   "source": [
    "import csv\n",
    "import pandas as pd\n",
    "import numpy as np"
   ]
  },
  {
   "cell_type": "code",
   "execution_count": 7,
   "id": "8f96f743-98a2-455a-857b-7c6bca8debbc",
   "metadata": {},
   "outputs": [],
   "source": [
    "pilotf_df = pd.read_csv('female_answers_exp1b.csv')\n",
    "pilotm_df = pd.read_csv('male_answers_exp1b.csv')"
   ]
  },
  {
   "cell_type": "code",
   "execution_count": 8,
   "id": "00085a2a-860e-4c48-9a72-3d37694269f2",
   "metadata": {},
   "outputs": [
    {
     "data": {
      "text/html": [
       "<div>\n",
       "<style scoped>\n",
       "    .dataframe tbody tr th:only-of-type {\n",
       "        vertical-align: middle;\n",
       "    }\n",
       "\n",
       "    .dataframe tbody tr th {\n",
       "        vertical-align: top;\n",
       "    }\n",
       "\n",
       "    .dataframe thead th {\n",
       "        text-align: right;\n",
       "    }\n",
       "</style>\n",
       "<table border=\"1\" class=\"dataframe\">\n",
       "  <thead>\n",
       "    <tr style=\"text-align: right;\">\n",
       "      <th></th>\n",
       "      <th>workerId</th>\n",
       "      <th>comment</th>\n",
       "      <th>answer1</th>\n",
       "      <th>correct</th>\n",
       "    </tr>\n",
       "  </thead>\n",
       "  <tbody>\n",
       "    <tr>\n",
       "      <th>0</th>\n",
       "      <td>y85qbNJQ</td>\n",
       "      <td>21</td>\n",
       "      <td>1</td>\n",
       "      <td>0</td>\n",
       "    </tr>\n",
       "    <tr>\n",
       "      <th>1</th>\n",
       "      <td>y85qbNJQ</td>\n",
       "      <td>81</td>\n",
       "      <td>-1</td>\n",
       "      <td>1</td>\n",
       "    </tr>\n",
       "    <tr>\n",
       "      <th>2</th>\n",
       "      <td>y85qbNJQ</td>\n",
       "      <td>79</td>\n",
       "      <td>-1</td>\n",
       "      <td>1</td>\n",
       "    </tr>\n",
       "    <tr>\n",
       "      <th>3</th>\n",
       "      <td>y85qbNJQ</td>\n",
       "      <td>105</td>\n",
       "      <td>1</td>\n",
       "      <td>1</td>\n",
       "    </tr>\n",
       "    <tr>\n",
       "      <th>4</th>\n",
       "      <td>y85qbNJQ</td>\n",
       "      <td>5</td>\n",
       "      <td>-1</td>\n",
       "      <td>1</td>\n",
       "    </tr>\n",
       "  </tbody>\n",
       "</table>\n",
       "</div>"
      ],
      "text/plain": [
       "   workerId  comment  answer1  correct\n",
       "0  y85qbNJQ       21        1        0\n",
       "1  y85qbNJQ       81       -1        1\n",
       "2  y85qbNJQ       79       -1        1\n",
       "3  y85qbNJQ      105        1        1\n",
       "4  y85qbNJQ        5       -1        1"
      ]
     },
     "execution_count": 8,
     "metadata": {},
     "output_type": "execute_result"
    }
   ],
   "source": [
    "\n",
    "import random\n",
    "import string\n",
    "\n",
    "\n",
    "# Function to generate a random string\n",
    "def generate_random_string(length=8):\n",
    "    return ''.join(random.choices(string.ascii_letters + string.digits, k=length))\n",
    "\n",
    "# Generate random strings for unique values\n",
    "unique_values = pilotm_df['workerId'].unique()\n",
    "random_mapping = {val: generate_random_string() for val in unique_values}\n",
    "\n",
    "# Replace values in the column with generated strings\n",
    "pilotm_df['workerId'] = pilotm_df['workerId'].map(random_mapping)\n",
    "\n",
    "pilotm_df.head()\n"
   ]
  },
  {
   "cell_type": "code",
   "execution_count": 9,
   "id": "8cedd25f-da1d-43d9-83ab-9f3f150e341d",
   "metadata": {},
   "outputs": [],
   "source": [
    "pilotm_df.to_csv('pilot_males.csv')\n"
   ]
  },
  {
   "cell_type": "code",
   "execution_count": 15,
   "id": "f6c7eace-90e6-4f52-9664-e0e34e981e28",
   "metadata": {},
   "outputs": [],
   "source": [
    "df1 = pd.read_csv('datat1.csv')\n",
    "df2 = pd.read_csv('datat2.csv')\n",
    "df3 = pd.read_csv('data3.csv')\n"
   ]
  },
  {
   "cell_type": "code",
   "execution_count": 16,
   "id": "333276ca-fc45-462a-b97c-119d8a497f43",
   "metadata": {},
   "outputs": [],
   "source": [
    "df = pd.concat([df1,df2,df3])\n",
    "# df = pd.concat(df,df3)\n"
   ]
  },
  {
   "cell_type": "code",
   "execution_count": 19,
   "id": "a8e127f7-8162-4aa9-9039-c546a1dd88e6",
   "metadata": {},
   "outputs": [
    {
     "name": "stdout",
     "output_type": "stream",
     "text": [
      "6089\n"
     ]
    }
   ],
   "source": [
    "print (len(df))\n",
    "\n"
   ]
  },
  {
   "cell_type": "code",
   "execution_count": null,
   "id": "00f9d9de-828f-44bb-a68b-511243cff950",
   "metadata": {},
   "outputs": [],
   "source": []
  }
 ],
 "metadata": {
  "kernelspec": {
   "display_name": "Python 3 (ipykernel)",
   "language": "python",
   "name": "python3"
  },
  "language_info": {
   "codemirror_mode": {
    "name": "ipython",
    "version": 3
   },
   "file_extension": ".py",
   "mimetype": "text/x-python",
   "name": "python",
   "nbconvert_exporter": "python",
   "pygments_lexer": "ipython3",
   "version": "3.8.12"
  }
 },
 "nbformat": 4,
 "nbformat_minor": 5
}
